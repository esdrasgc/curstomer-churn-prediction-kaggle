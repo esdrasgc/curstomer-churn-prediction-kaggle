{
 "cells": [
  {
   "cell_type": "code",
   "execution_count": 7,
   "id": "6bbcdebf",
   "metadata": {},
   "outputs": [],
   "source": [
    "import pathlib\n",
    "import polars as pl"
   ]
  },
  {
   "cell_type": "code",
   "execution_count": 8,
   "id": "60903b29",
   "metadata": {},
   "outputs": [],
   "source": [
    "path_data = pathlib.Path().cwd().parent / \"data\" \n",
    "\n",
    "df = pl.read_csv(path_data / 'train.csv')\n",
    "test = pl.read_csv(path_data / 'test.csv')"
   ]
  },
  {
   "cell_type": "code",
   "execution_count": 9,
   "id": "9561ec0f",
   "metadata": {},
   "outputs": [],
   "source": [
    "# Variáveis categóricas\n",
    "categorical_vars = [\n",
    "    'Gender',\n",
    "    'Location', \n",
    "    'Subscription_Type',\n",
    "    'Last_Interaction_Type',\n",
    "    'Promo_Opted_In',\n",
    "]\n",
    "\n",
    "# Variáveis numéricas contínuas\n",
    "continuous_vars = [\n",
    "    'Age',\n",
    "    'Account_Age_Months',\n",
    "    'Monthly_Spending',\n",
    "    'Total_Usage_Hours',\n",
    "    'Streaming_Usage',     # Porcentagem (0-99%)\n",
    "    'Discount_Used',       # Porcentagem (0-99%)\n",
    "    'Satisfaction_Score'   # Escala 1-10\n",
    "]\n",
    "\n",
    "# Variáveis numéricas discretas (contagens)\n",
    "discrete_vars = [\n",
    "    'Support_Calls',       # Número de chamadas\n",
    "    'Late_Payments',       # Número de pagamentos atrasados\n",
    "    'Complaint_Tickets'    # Número de tickets de reclamação\n",
    "]\n",
    "\n",
    "# Todas as variáveis numéricas (contínuas + discretas)\n",
    "numeric_vars = continuous_vars + discrete_vars\n",
    "\n",
    "# Variável alvo\n",
    "target_var = 'Churn'\n",
    "\n",
    "# Variáveis explicativas (features)\n",
    "feature_vars = [col for col in df.columns if col not in ['Customer_ID', 'Churn']]"
   ]
  },
  {
   "cell_type": "code",
   "execution_count": 10,
   "id": "16de065d",
   "metadata": {},
   "outputs": [
    {
     "data": {
      "text/plain": [
       "['Customer_ID',\n",
       " 'Age',\n",
       " 'Gender',\n",
       " 'Location',\n",
       " 'Subscription_Type',\n",
       " 'Account_Age_Months',\n",
       " 'Monthly_Spending',\n",
       " 'Total_Usage_Hours',\n",
       " 'Support_Calls',\n",
       " 'Late_Payments',\n",
       " 'Streaming_Usage',\n",
       " 'Discount_Used',\n",
       " 'Satisfaction_Score',\n",
       " 'Last_Interaction_Type',\n",
       " 'Complaint_Tickets',\n",
       " 'Promo_Opted_In']"
      ]
     },
     "execution_count": 10,
     "metadata": {},
     "output_type": "execute_result"
    }
   ],
   "source": [
    "test.columns"
   ]
  },
  {
   "cell_type": "code",
   "execution_count": 11,
   "id": "371f04dc",
   "metadata": {},
   "outputs": [],
   "source": [
    "from sklearn.preprocessing import StandardScaler, OneHotEncoder\n",
    "from sklearn.compose import ColumnTransformer\n",
    "\n",
    "# Pré-processamento\n",
    "## aplicar standard scaler para variáveis numéricas\n",
    "## aplicar one-hot encoding para variáveis categóricas\n",
    "\n",
    "preprocessor = ColumnTransformer(\n",
    "    transformers=[\n",
    "        ('num', StandardScaler(), numeric_vars),\n",
    "        ('cat', OneHotEncoder(drop='first'), categorical_vars)  # Evita dummy variable trap\n",
    "    ],\n",
    "    remainder='passthrough'  # Mantém outras colunas inalteradas\n",
    ")\n",
    "\n",
    "X_ = df.select(feature_vars).to_pandas()\n",
    "X = preprocessor.fit_transform(X_)\n",
    "\n",
    "y = df.select('Churn').to_numpy()\n",
    "\n",
    "X_teste = test.select(feature_vars).to_pandas()\n",
    "X_teste = preprocessor.transform(X_teste)"
   ]
  },
  {
   "cell_type": "code",
   "execution_count": 12,
   "id": "1c98079c",
   "metadata": {},
   "outputs": [],
   "source": [
    "import pickle\n",
    "\n",
    "with open(path_data / 'X.pickle', 'wb') as f:\n",
    "    pickle.dump(X, f)\n",
    "\n",
    "with open(path_data / 'y.pickle', 'wb') as f:\n",
    "    pickle.dump(y, f)\n",
    "\n",
    "with open(path_data / 'X_teste.pickle', 'wb') as f:\n",
    "    pickle.dump(X_teste, f)"
   ]
  }
 ],
 "metadata": {
  "kernelspec": {
   "display_name": "env",
   "language": "python",
   "name": "python3"
  },
  "language_info": {
   "codemirror_mode": {
    "name": "ipython",
    "version": 3
   },
   "file_extension": ".py",
   "mimetype": "text/x-python",
   "name": "python",
   "nbconvert_exporter": "python",
   "pygments_lexer": "ipython3",
   "version": "3.12.9"
  }
 },
 "nbformat": 4,
 "nbformat_minor": 5
}
