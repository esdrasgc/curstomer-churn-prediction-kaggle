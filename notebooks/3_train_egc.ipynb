{
 "cells": [
  {
   "cell_type": "code",
   "execution_count": 1,
   "id": "f1f6d652",
   "metadata": {},
   "outputs": [],
   "source": [
    "import pickle\n",
    "import pathlib\n",
    "\n",
    "path_data = pathlib.Path().cwd().parent / 'data'\n",
    "\n",
    "with open(path_data / 'X.pickle', 'rb') as f:\n",
    "    X = pickle.load(f)\n",
    "\n",
    "with open(path_data / 'y.pickle', 'rb') as f:\n",
    "    y = pickle.load(f)"
   ]
  },
  {
   "cell_type": "code",
   "execution_count": 2,
   "id": "788e236f",
   "metadata": {},
   "outputs": [
    {
     "name": "stderr",
     "output_type": "stream",
     "text": [
      "/home/esdrasgc/Insper/8_semestre/redes-neurais/env/lib/python3.12/site-packages/tqdm/auto.py:21: TqdmWarning: IProgress not found. Please update jupyter and ipywidgets. See https://ipywidgets.readthedocs.io/en/stable/user_install.html\n",
      "  from .autonotebook import tqdm as notebook_tqdm\n"
     ]
    }
   ],
   "source": [
    "import pickle\n",
    "import pathlib\n",
    "import optuna\n",
    "import numpy as np\n",
    "from sklearn.neural_network import MLPClassifier\n",
    "from sklearn.model_selection import cross_val_score, StratifiedKFold\n",
    "from sklearn.preprocessing import StandardScaler\n",
    "from sklearn.pipeline import Pipeline\n",
    "from sklearn.metrics import accuracy_score, classification_report\n",
    "import warnings\n",
    "warnings.filterwarnings('ignore')"
   ]
  },
  {
   "cell_type": "code",
   "execution_count": 3,
   "id": "181cc5b4",
   "metadata": {},
   "outputs": [],
   "source": [
    "# Configurações\n",
    "N_TRIALS = 20  # Número de testes - pode ser ajustado aqui\n",
    "RANDOM_STATE = 42\n",
    "CV_FOLDS = 4"
   ]
  },
  {
   "cell_type": "code",
   "execution_count": 4,
   "id": "5bde1dc3",
   "metadata": {},
   "outputs": [
    {
     "name": "stderr",
     "output_type": "stream",
     "text": [
      "[I 2025-09-15 13:07:29,503] A new study created in memory with name: no-name-232f4fdb-0995-4530-a21f-ddbf95b91090\n"
     ]
    },
    {
     "name": "stdout",
     "output_type": "stream",
     "text": [
      "Iniciando otimização com 20 trials...\n"
     ]
    },
    {
     "name": "stderr",
     "output_type": "stream",
     "text": [
      "[I 2025-09-15 13:08:21,220] Trial 0 finished with value: 0.56925 and parameters: {'n_layers': 3, 'layer_0_size': 205, 'layer_1_size': 125, 'layer_2_size': 389, 'alpha': 0.03886907184228022, 'learning_rate_init': 1.3895969860385052e-05, 'activation': 'relu', 'solver': 'lbfgs'}. Best is trial 0 with value: 0.56925.\n",
      "[I 2025-09-15 13:11:10,703] Trial 1 finished with value: 0.567875 and parameters: {'n_layers': 5, 'layer_0_size': 145, 'layer_1_size': 267, 'layer_2_size': 400, 'layer_3_size': 332, 'layer_4_size': 175, 'alpha': 0.00024628101566735613, 'learning_rate_init': 0.00021324073159674893, 'activation': 'relu', 'solver': 'lbfgs'}. Best is trial 0 with value: 0.56925.\n",
      "[I 2025-09-15 13:11:15,625] Trial 2 finished with value: 0.6868750000000001 and parameters: {'n_layers': 1, 'layer_0_size': 451, 'alpha': 0.012020023353362531, 'learning_rate_init': 0.0017362016761521576, 'activation': 'logistic', 'solver': 'adam'}. Best is trial 2 with value: 0.6868750000000001.\n",
      "[I 2025-09-15 13:11:27,198] Trial 3 finished with value: 0.6868750000000001 and parameters: {'n_layers': 2, 'layer_0_size': 387, 'layer_1_size': 385, 'alpha': 0.03501302130871305, 'learning_rate_init': 1.0286997331009497e-05, 'activation': 'logistic', 'solver': 'lbfgs'}. Best is trial 2 with value: 0.6868750000000001.\n",
      "[I 2025-09-15 13:11:37,696] Trial 4 finished with value: 0.6868750000000001 and parameters: {'n_layers': 4, 'layer_0_size': 219, 'layer_1_size': 227, 'layer_2_size': 193, 'layer_3_size': 412, 'alpha': 0.062073747822702384, 'learning_rate_init': 0.007251974139799691, 'activation': 'relu', 'solver': 'adam'}. Best is trial 2 with value: 0.6868750000000001.\n",
      "[I 2025-09-15 13:11:39,205] Trial 5 finished with value: 0.684625 and parameters: {'n_layers': 1, 'layer_0_size': 220, 'alpha': 0.0002111529207063547, 'learning_rate_init': 4.2188396148833053e-05, 'activation': 'relu', 'solver': 'adam'}. Best is trial 2 with value: 0.6868750000000001.\n",
      "[I 2025-09-15 13:11:51,557] Trial 6 finished with value: 0.6868750000000001 and parameters: {'n_layers': 4, 'layer_0_size': 406, 'layer_1_size': 273, 'layer_2_size': 191, 'layer_3_size': 305, 'alpha': 3.4094421494226195e-05, 'learning_rate_init': 4.8053749827944346e-05, 'activation': 'relu', 'solver': 'adam'}. Best is trial 2 with value: 0.6868750000000001.\n",
      "[I 2025-09-15 13:12:19,526] Trial 7 finished with value: 0.565625 and parameters: {'n_layers': 2, 'layer_0_size': 344, 'layer_1_size': 69, 'alpha': 0.0022365656633720338, 'learning_rate_init': 0.026901687226193637, 'activation': 'tanh', 'solver': 'lbfgs'}. Best is trial 2 with value: 0.6868750000000001.\n",
      "[I 2025-09-15 13:12:53,928] Trial 8 finished with value: 0.5622499999999999 and parameters: {'n_layers': 1, 'layer_0_size': 442, 'alpha': 6.612402430844458e-06, 'learning_rate_init': 0.0010020007612416757, 'activation': 'tanh', 'solver': 'lbfgs'}. Best is trial 2 with value: 0.6868750000000001.\n",
      "[I 2025-09-15 13:12:55,359] Trial 9 finished with value: 0.6868750000000001 and parameters: {'n_layers': 1, 'layer_0_size': 314, 'alpha': 0.02443999037114471, 'learning_rate_init': 0.0009925295657198384, 'activation': 'logistic', 'solver': 'adam'}. Best is trial 2 with value: 0.6868750000000001.\n",
      "[I 2025-09-15 13:13:08,207] Trial 10 finished with value: 0.6868750000000001 and parameters: {'n_layers': 2, 'layer_0_size': 488, 'layer_1_size': 493, 'alpha': 0.002765707100343034, 'learning_rate_init': 0.09106103583418011, 'activation': 'logistic', 'solver': 'adam'}. Best is trial 2 with value: 0.6868750000000001.\n",
      "[I 2025-09-15 13:13:24,189] Trial 11 finished with value: 0.6868750000000001 and parameters: {'n_layers': 2, 'layer_0_size': 393, 'layer_1_size': 454, 'alpha': 0.004551291159561777, 'learning_rate_init': 0.002274194054003256, 'activation': 'logistic', 'solver': 'lbfgs'}. Best is trial 2 with value: 0.6868750000000001.\n",
      "[I 2025-09-15 13:13:38,015] Trial 12 finished with value: 0.6868750000000001 and parameters: {'n_layers': 2, 'layer_0_size': 468, 'layer_1_size': 380, 'alpha': 0.00862457298767329, 'learning_rate_init': 0.00022991431148691084, 'activation': 'logistic', 'solver': 'lbfgs'}. Best is trial 2 with value: 0.6868750000000001.\n",
      "[I 2025-09-15 13:13:50,666] Trial 13 finished with value: 0.68675 and parameters: {'n_layers': 3, 'layer_0_size': 354, 'layer_1_size': 374, 'layer_2_size': 65, 'alpha': 0.0009225315524334844, 'learning_rate_init': 0.006368970578768938, 'activation': 'logistic', 'solver': 'adam'}. Best is trial 2 with value: 0.6868750000000001.\n",
      "[I 2025-09-15 13:13:51,960] Trial 14 finished with value: 0.6868750000000001 and parameters: {'n_layers': 1, 'layer_0_size': 294, 'alpha': 0.08729108709025823, 'learning_rate_init': 0.0004025635199191619, 'activation': 'logistic', 'solver': 'adam'}. Best is trial 2 with value: 0.6868750000000001.\n",
      "[I 2025-09-15 13:14:00,545] Trial 15 finished with value: 0.6868750000000001 and parameters: {'n_layers': 3, 'layer_0_size': 420, 'layer_1_size': 397, 'layer_2_size': 448, 'alpha': 1.087431862412373e-06, 'learning_rate_init': 6.363785366256832e-05, 'activation': 'logistic', 'solver': 'lbfgs'}. Best is trial 2 with value: 0.6868750000000001.\n",
      "[I 2025-09-15 13:14:06,791] Trial 16 finished with value: 0.68675 and parameters: {'n_layers': 2, 'layer_0_size': 79, 'layer_1_size': 200, 'alpha': 0.012898635044315253, 'learning_rate_init': 1.4786142684604607e-05, 'activation': 'tanh', 'solver': 'adam'}. Best is trial 2 with value: 0.6868750000000001.\n",
      "[I 2025-09-15 13:14:10,634] Trial 17 finished with value: 0.6868750000000001 and parameters: {'n_layers': 1, 'layer_0_size': 499, 'alpha': 0.0005370667253486379, 'learning_rate_init': 0.007332804757069913, 'activation': 'logistic', 'solver': 'lbfgs'}. Best is trial 2 with value: 0.6868750000000001.\n",
      "[I 2025-09-15 13:14:21,686] Trial 18 finished with value: 0.6868750000000001 and parameters: {'n_layers': 2, 'layer_0_size': 380, 'layer_1_size': 341, 'alpha': 6.22553787921337e-05, 'learning_rate_init': 0.0014093970209600527, 'activation': 'logistic', 'solver': 'lbfgs'}. Best is trial 2 with value: 0.6868750000000001.\n",
      "[I 2025-09-15 13:14:36,342] Trial 19 finished with value: 0.6868750000000001 and parameters: {'n_layers': 4, 'layer_0_size': 444, 'layer_1_size': 314, 'layer_2_size': 286, 'layer_3_size': 62, 'alpha': 0.013691491796780888, 'learning_rate_init': 0.0033394534652004177, 'activation': 'logistic', 'solver': 'adam'}. Best is trial 2 with value: 0.6868750000000001.\n"
     ]
    },
    {
     "name": "stdout",
     "output_type": "stream",
     "text": [
      "Otimização concluída!\n",
      "Melhor score: 0.6869\n",
      "Melhores parâmetros: {'n_layers': 1, 'layer_0_size': 451, 'alpha': 0.012020023353362531, 'learning_rate_init': 0.0017362016761521576, 'activation': 'logistic', 'solver': 'adam'}\n"
     ]
    }
   ],
   "source": [
    "def objective(trial):\n",
    "    \"\"\"Função objetivo para otimização com Optuna\"\"\"\n",
    "    \n",
    "    # Hiperparâmetros para otimizar\n",
    "    hidden_layer_sizes = []\n",
    "    n_layers = trial.suggest_int('n_layers', 1, 5)\n",
    "    \n",
    "    for i in range(n_layers):\n",
    "        layer_size = trial.suggest_int(f'layer_{i}_size', 50, 500)\n",
    "        hidden_layer_sizes.append(layer_size)\n",
    "    \n",
    "    hidden_layer_sizes = tuple(hidden_layer_sizes)\n",
    "    \n",
    "    alpha = trial.suggest_float('alpha', 1e-6, 1e-1, log=True)\n",
    "    learning_rate_init = trial.suggest_float('learning_rate_init', 1e-5, 1e-1, log=True)\n",
    "    activation = trial.suggest_categorical('activation', ['relu', 'tanh', 'logistic'])\n",
    "    solver = trial.suggest_categorical('solver', ['adam', 'lbfgs'])\n",
    "    \n",
    "    # Criar pipeline com normalização e modelo\n",
    "    pipeline = Pipeline([\n",
    "        ('scaler', StandardScaler()),\n",
    "        ('mlp', MLPClassifier(\n",
    "            hidden_layer_sizes=hidden_layer_sizes,\n",
    "            alpha=alpha,\n",
    "            learning_rate_init=learning_rate_init,\n",
    "            activation=activation,\n",
    "            solver=solver,\n",
    "            max_iter=1000,\n",
    "            random_state=RANDOM_STATE,\n",
    "            early_stopping=True,\n",
    "            validation_fraction=0.1\n",
    "        ))\n",
    "    ])\n",
    "    \n",
    "    # Cross-validation\n",
    "    cv = StratifiedKFold(n_splits=CV_FOLDS, shuffle=True, random_state=RANDOM_STATE)\n",
    "    scores = cross_val_score(pipeline, X, y, cv=cv, scoring='accuracy', n_jobs=-1)\n",
    "    \n",
    "    return scores.mean()\n",
    "\n",
    "# Criar estudo Optuna\n",
    "study = optuna.create_study(direction='maximize')\n",
    "\n",
    "print(f\"Iniciando otimização com {N_TRIALS} trials...\")\n",
    "study.optimize(objective, n_trials=N_TRIALS)\n",
    "\n",
    "print(\"Otimização concluída!\")\n",
    "print(f\"Melhor score: {study.best_value:.4f}\")\n",
    "print(f\"Melhores parâmetros: {study.best_params}\")"
   ]
  }
 ],
 "metadata": {
  "kernelspec": {
   "display_name": "env",
   "language": "python",
   "name": "python3"
  },
  "language_info": {
   "codemirror_mode": {
    "name": "ipython",
    "version": 3
   },
   "file_extension": ".py",
   "mimetype": "text/x-python",
   "name": "python",
   "nbconvert_exporter": "python",
   "pygments_lexer": "ipython3",
   "version": "3.12.9"
  }
 },
 "nbformat": 4,
 "nbformat_minor": 5
}
